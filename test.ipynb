{
 "cells": [
  {
   "cell_type": "code",
   "execution_count": 19,
   "metadata": {},
   "outputs": [],
   "source": [
    "import json"
   ]
  },
  {
   "cell_type": "code",
   "execution_count": 20,
   "metadata": {},
   "outputs": [
    {
     "name": "stdout",
     "output_type": "stream",
     "text": [
      "nasdaq: 101\n",
      "snp: 503\n",
      "russel: 1798\n",
      "exchange: 3\n"
     ]
    }
   ],
   "source": [
    "with open('utils/tickers.json') as f:\n",
    "    tickers = json.load(f)\n",
    "\n",
    "final_tickers = {}\n",
    "for key in tickers.keys():\n",
    "    final_tickers[key] = [ticker for ticker in tickers[key] if ticker is not None or ticker != '']\n",
    "\n",
    "lengths = {}\n",
    "for key in final_tickers.keys():\n",
    "    print(f\"{key}: {len(final_tickers[key])}\")\n"
   ]
  },
  {
   "cell_type": "code",
   "execution_count": 21,
   "metadata": {},
   "outputs": [
    {
     "name": "stdout",
     "output_type": "stream",
     "text": [
      "503\n"
     ]
    }
   ],
   "source": [
    "print(len(final_tickers[\"snp\"]))"
   ]
  },
  {
   "cell_type": "code",
   "execution_count": 22,
   "metadata": {},
   "outputs": [
    {
     "name": "stdout",
     "output_type": "stream",
     "text": [
      "nasdaq: 101\n",
      "snp: 503\n",
      "nasdaq:snp: 522\n",
      "--------------------------------------------------\n",
      "nasdaq: 101\n",
      "russel: 1798\n",
      "nasdaq:russel: 1899\n",
      "--------------------------------------------------\n",
      "nasdaq: 101\n",
      "exchange: 3\n",
      "nasdaq:exchange: 104\n",
      "--------------------------------------------------\n",
      "snp: 503\n",
      "russel: 1798\n",
      "snp:russel: 2301\n",
      "--------------------------------------------------\n",
      "snp: 503\n",
      "exchange: 3\n",
      "snp:exchange: 506\n",
      "--------------------------------------------------\n",
      "russel: 1798\n",
      "exchange: 3\n",
      "russel:exchange: 1801\n",
      "--------------------------------------------------\n"
     ]
    }
   ],
   "source": [
    "for indx, key in enumerate(final_tickers.keys()):\n",
    "    for indy, key_2 in enumerate(final_tickers.keys()):\n",
    "        if indy > indx:\n",
    "            print(f\"{key}: {len(set(final_tickers[key]))}\")\n",
    "            print(f\"{key_2}: {len(set(final_tickers[key_2]))}\")\n",
    "            print(f\"{key}:{key_2}: {len(set(final_tickers[key] + final_tickers[key_2]))}\")\n",
    "            print(\"-\"*50)"
   ]
  },
  {
   "cell_type": "code",
   "execution_count": null,
   "metadata": {},
   "outputs": [],
   "source": []
  }
 ],
 "metadata": {
  "kernelspec": {
   "display_name": "finance",
   "language": "python",
   "name": "python3"
  },
  "language_info": {
   "codemirror_mode": {
    "name": "ipython",
    "version": 3
   },
   "file_extension": ".py",
   "mimetype": "text/x-python",
   "name": "python",
   "nbconvert_exporter": "python",
   "pygments_lexer": "ipython3",
   "version": "3.11.4"
  },
  "orig_nbformat": 4
 },
 "nbformat": 4,
 "nbformat_minor": 2
}
